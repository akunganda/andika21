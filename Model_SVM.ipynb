{
  "cells": [
    {
      "cell_type": "markdown",
      "metadata": {
        "id": "view-in-github",
        "colab_type": "text"
      },
      "source": [
        "<a href=\"https://colab.research.google.com/github/akunganda/andika21/blob/main/Model_SVM.ipynb\" target=\"_parent\"><img src=\"https://colab.research.google.com/assets/colab-badge.svg\" alt=\"Open In Colab\"/></a>"
      ]
    },
    {
      "cell_type": "code",
      "execution_count": 20,
      "metadata": {
        "id": "swr8E-aFyGD6"
      },
      "outputs": [],
      "source": [
        "import pandas as pd\n",
        "import numpy as np\n",
        "import matplotlib.pyplot as plt\n",
        "from sklearn.model_selection import train_test_split, cross_validate, KFold\n",
        "from sklearn.svm import SVC\n",
        "from sklearn.metrics import classification_report, confusion_matrix, accuracy_score\n",
        "import seaborn as sns"
      ]
    },
    {
      "cell_type": "code",
      "execution_count": 24,
      "metadata": {
        "colab": {
          "base_uri": "https://localhost:8080/",
          "height": 423
        },
        "id": "fKJKcbmn1J-x",
        "outputId": "5b11ebac-cb4f-4b0e-d9c6-683ba7d36296"
      },
      "outputs": [
        {
          "output_type": "execute_result",
          "data": {
            "text/plain": [
              "      BB_Lahir  TB_Lahir  Usia_Saat_Ukur     Berat    Tinggi   ZS_BB/U  \\\n",
              "0     0.000110  0.099010        0.233333  0.268551  0.382872  0.571831   \n",
              "1     0.000117  0.099010        0.200000  0.190813  0.363980  0.270423   \n",
              "2     0.000100  0.097030        0.350000  0.310954  0.487406  0.550704   \n",
              "3     0.000000  0.000000        0.650000  0.325088  0.540302  0.322535   \n",
              "4     0.000233  0.085149        0.850000  0.084806  0.065491  0.733803   \n",
              "...        ...       ...             ...       ...       ...       ...   \n",
              "3264  0.000117  0.099010        0.333333  0.325088  0.474811  0.618310   \n",
              "3265  0.000083  0.091089        0.450000  0.332155  0.525189  0.571831   \n",
              "3266  0.000083  0.091089        0.133333  0.162544  0.304786  0.374648   \n",
              "3267  0.000107  0.095050        0.400000  0.261484  0.478589  0.400000   \n",
              "3268  0.000100  0.097030        0.250000  0.226148  0.403023  0.353521   \n",
              "\n",
              "       ZS_TB/U  ZS_BB/TB  TB/U  \n",
              "0     0.299883  0.004702     2  \n",
              "1     0.304551  0.001833     1  \n",
              "2     0.383897  0.004024     1  \n",
              "3     0.199533  0.003377     2  \n",
              "4     0.826138  0.004014     0  \n",
              "...        ...       ...   ...  \n",
              "3264  0.372229  0.004682     1  \n",
              "3265  0.418903  0.004204     1  \n",
              "3266  0.399067  0.002560     1  \n",
              "3267  0.373396  0.002799     1  \n",
              "3268  0.305718  0.002500     1  \n",
              "\n",
              "[3269 rows x 9 columns]"
            ],
            "text/html": [
              "\n",
              "  <div id=\"df-1378fa41-f9b9-45c7-a771-91e3afa30c8a\" class=\"colab-df-container\">\n",
              "    <div>\n",
              "<style scoped>\n",
              "    .dataframe tbody tr th:only-of-type {\n",
              "        vertical-align: middle;\n",
              "    }\n",
              "\n",
              "    .dataframe tbody tr th {\n",
              "        vertical-align: top;\n",
              "    }\n",
              "\n",
              "    .dataframe thead th {\n",
              "        text-align: right;\n",
              "    }\n",
              "</style>\n",
              "<table border=\"1\" class=\"dataframe\">\n",
              "  <thead>\n",
              "    <tr style=\"text-align: right;\">\n",
              "      <th></th>\n",
              "      <th>BB_Lahir</th>\n",
              "      <th>TB_Lahir</th>\n",
              "      <th>Usia_Saat_Ukur</th>\n",
              "      <th>Berat</th>\n",
              "      <th>Tinggi</th>\n",
              "      <th>ZS_BB/U</th>\n",
              "      <th>ZS_TB/U</th>\n",
              "      <th>ZS_BB/TB</th>\n",
              "      <th>TB/U</th>\n",
              "    </tr>\n",
              "  </thead>\n",
              "  <tbody>\n",
              "    <tr>\n",
              "      <th>0</th>\n",
              "      <td>0.000110</td>\n",
              "      <td>0.099010</td>\n",
              "      <td>0.233333</td>\n",
              "      <td>0.268551</td>\n",
              "      <td>0.382872</td>\n",
              "      <td>0.571831</td>\n",
              "      <td>0.299883</td>\n",
              "      <td>0.004702</td>\n",
              "      <td>2</td>\n",
              "    </tr>\n",
              "    <tr>\n",
              "      <th>1</th>\n",
              "      <td>0.000117</td>\n",
              "      <td>0.099010</td>\n",
              "      <td>0.200000</td>\n",
              "      <td>0.190813</td>\n",
              "      <td>0.363980</td>\n",
              "      <td>0.270423</td>\n",
              "      <td>0.304551</td>\n",
              "      <td>0.001833</td>\n",
              "      <td>1</td>\n",
              "    </tr>\n",
              "    <tr>\n",
              "      <th>2</th>\n",
              "      <td>0.000100</td>\n",
              "      <td>0.097030</td>\n",
              "      <td>0.350000</td>\n",
              "      <td>0.310954</td>\n",
              "      <td>0.487406</td>\n",
              "      <td>0.550704</td>\n",
              "      <td>0.383897</td>\n",
              "      <td>0.004024</td>\n",
              "      <td>1</td>\n",
              "    </tr>\n",
              "    <tr>\n",
              "      <th>3</th>\n",
              "      <td>0.000000</td>\n",
              "      <td>0.000000</td>\n",
              "      <td>0.650000</td>\n",
              "      <td>0.325088</td>\n",
              "      <td>0.540302</td>\n",
              "      <td>0.322535</td>\n",
              "      <td>0.199533</td>\n",
              "      <td>0.003377</td>\n",
              "      <td>2</td>\n",
              "    </tr>\n",
              "    <tr>\n",
              "      <th>4</th>\n",
              "      <td>0.000233</td>\n",
              "      <td>0.085149</td>\n",
              "      <td>0.850000</td>\n",
              "      <td>0.084806</td>\n",
              "      <td>0.065491</td>\n",
              "      <td>0.733803</td>\n",
              "      <td>0.826138</td>\n",
              "      <td>0.004014</td>\n",
              "      <td>0</td>\n",
              "    </tr>\n",
              "    <tr>\n",
              "      <th>...</th>\n",
              "      <td>...</td>\n",
              "      <td>...</td>\n",
              "      <td>...</td>\n",
              "      <td>...</td>\n",
              "      <td>...</td>\n",
              "      <td>...</td>\n",
              "      <td>...</td>\n",
              "      <td>...</td>\n",
              "      <td>...</td>\n",
              "    </tr>\n",
              "    <tr>\n",
              "      <th>3264</th>\n",
              "      <td>0.000117</td>\n",
              "      <td>0.099010</td>\n",
              "      <td>0.333333</td>\n",
              "      <td>0.325088</td>\n",
              "      <td>0.474811</td>\n",
              "      <td>0.618310</td>\n",
              "      <td>0.372229</td>\n",
              "      <td>0.004682</td>\n",
              "      <td>1</td>\n",
              "    </tr>\n",
              "    <tr>\n",
              "      <th>3265</th>\n",
              "      <td>0.000083</td>\n",
              "      <td>0.091089</td>\n",
              "      <td>0.450000</td>\n",
              "      <td>0.332155</td>\n",
              "      <td>0.525189</td>\n",
              "      <td>0.571831</td>\n",
              "      <td>0.418903</td>\n",
              "      <td>0.004204</td>\n",
              "      <td>1</td>\n",
              "    </tr>\n",
              "    <tr>\n",
              "      <th>3266</th>\n",
              "      <td>0.000083</td>\n",
              "      <td>0.091089</td>\n",
              "      <td>0.133333</td>\n",
              "      <td>0.162544</td>\n",
              "      <td>0.304786</td>\n",
              "      <td>0.374648</td>\n",
              "      <td>0.399067</td>\n",
              "      <td>0.002560</td>\n",
              "      <td>1</td>\n",
              "    </tr>\n",
              "    <tr>\n",
              "      <th>3267</th>\n",
              "      <td>0.000107</td>\n",
              "      <td>0.095050</td>\n",
              "      <td>0.400000</td>\n",
              "      <td>0.261484</td>\n",
              "      <td>0.478589</td>\n",
              "      <td>0.400000</td>\n",
              "      <td>0.373396</td>\n",
              "      <td>0.002799</td>\n",
              "      <td>1</td>\n",
              "    </tr>\n",
              "    <tr>\n",
              "      <th>3268</th>\n",
              "      <td>0.000100</td>\n",
              "      <td>0.097030</td>\n",
              "      <td>0.250000</td>\n",
              "      <td>0.226148</td>\n",
              "      <td>0.403023</td>\n",
              "      <td>0.353521</td>\n",
              "      <td>0.305718</td>\n",
              "      <td>0.002500</td>\n",
              "      <td>1</td>\n",
              "    </tr>\n",
              "  </tbody>\n",
              "</table>\n",
              "<p>3269 rows × 9 columns</p>\n",
              "</div>\n",
              "    <div class=\"colab-df-buttons\">\n",
              "\n",
              "  <div class=\"colab-df-container\">\n",
              "    <button class=\"colab-df-convert\" onclick=\"convertToInteractive('df-1378fa41-f9b9-45c7-a771-91e3afa30c8a')\"\n",
              "            title=\"Convert this dataframe to an interactive table.\"\n",
              "            style=\"display:none;\">\n",
              "\n",
              "  <svg xmlns=\"http://www.w3.org/2000/svg\" height=\"24px\" viewBox=\"0 -960 960 960\">\n",
              "    <path d=\"M120-120v-720h720v720H120Zm60-500h600v-160H180v160Zm220 220h160v-160H400v160Zm0 220h160v-160H400v160ZM180-400h160v-160H180v160Zm440 0h160v-160H620v160ZM180-180h160v-160H180v160Zm440 0h160v-160H620v160Z\"/>\n",
              "  </svg>\n",
              "    </button>\n",
              "\n",
              "  <style>\n",
              "    .colab-df-container {\n",
              "      display:flex;\n",
              "      gap: 12px;\n",
              "    }\n",
              "\n",
              "    .colab-df-convert {\n",
              "      background-color: #E8F0FE;\n",
              "      border: none;\n",
              "      border-radius: 50%;\n",
              "      cursor: pointer;\n",
              "      display: none;\n",
              "      fill: #1967D2;\n",
              "      height: 32px;\n",
              "      padding: 0 0 0 0;\n",
              "      width: 32px;\n",
              "    }\n",
              "\n",
              "    .colab-df-convert:hover {\n",
              "      background-color: #E2EBFA;\n",
              "      box-shadow: 0px 1px 2px rgba(60, 64, 67, 0.3), 0px 1px 3px 1px rgba(60, 64, 67, 0.15);\n",
              "      fill: #174EA6;\n",
              "    }\n",
              "\n",
              "    .colab-df-buttons div {\n",
              "      margin-bottom: 4px;\n",
              "    }\n",
              "\n",
              "    [theme=dark] .colab-df-convert {\n",
              "      background-color: #3B4455;\n",
              "      fill: #D2E3FC;\n",
              "    }\n",
              "\n",
              "    [theme=dark] .colab-df-convert:hover {\n",
              "      background-color: #434B5C;\n",
              "      box-shadow: 0px 1px 3px 1px rgba(0, 0, 0, 0.15);\n",
              "      filter: drop-shadow(0px 1px 2px rgba(0, 0, 0, 0.3));\n",
              "      fill: #FFFFFF;\n",
              "    }\n",
              "  </style>\n",
              "\n",
              "    <script>\n",
              "      const buttonEl =\n",
              "        document.querySelector('#df-1378fa41-f9b9-45c7-a771-91e3afa30c8a button.colab-df-convert');\n",
              "      buttonEl.style.display =\n",
              "        google.colab.kernel.accessAllowed ? 'block' : 'none';\n",
              "\n",
              "      async function convertToInteractive(key) {\n",
              "        const element = document.querySelector('#df-1378fa41-f9b9-45c7-a771-91e3afa30c8a');\n",
              "        const dataTable =\n",
              "          await google.colab.kernel.invokeFunction('convertToInteractive',\n",
              "                                                    [key], {});\n",
              "        if (!dataTable) return;\n",
              "\n",
              "        const docLinkHtml = 'Like what you see? Visit the ' +\n",
              "          '<a target=\"_blank\" href=https://colab.research.google.com/notebooks/data_table.ipynb>data table notebook</a>'\n",
              "          + ' to learn more about interactive tables.';\n",
              "        element.innerHTML = '';\n",
              "        dataTable['output_type'] = 'display_data';\n",
              "        await google.colab.output.renderOutput(dataTable, element);\n",
              "        const docLink = document.createElement('div');\n",
              "        docLink.innerHTML = docLinkHtml;\n",
              "        element.appendChild(docLink);\n",
              "      }\n",
              "    </script>\n",
              "  </div>\n",
              "\n",
              "\n",
              "<div id=\"df-56792eea-ba7b-4778-8469-00b7b9212f51\">\n",
              "  <button class=\"colab-df-quickchart\" onclick=\"quickchart('df-56792eea-ba7b-4778-8469-00b7b9212f51')\"\n",
              "            title=\"Suggest charts.\"\n",
              "            style=\"display:none;\">\n",
              "\n",
              "<svg xmlns=\"http://www.w3.org/2000/svg\" height=\"24px\"viewBox=\"0 0 24 24\"\n",
              "     width=\"24px\">\n",
              "    <g>\n",
              "        <path d=\"M19 3H5c-1.1 0-2 .9-2 2v14c0 1.1.9 2 2 2h14c1.1 0 2-.9 2-2V5c0-1.1-.9-2-2-2zM9 17H7v-7h2v7zm4 0h-2V7h2v10zm4 0h-2v-4h2v4z\"/>\n",
              "    </g>\n",
              "</svg>\n",
              "  </button>\n",
              "\n",
              "<style>\n",
              "  .colab-df-quickchart {\n",
              "    background-color: #E8F0FE;\n",
              "    border: none;\n",
              "    border-radius: 50%;\n",
              "    cursor: pointer;\n",
              "    display: none;\n",
              "    fill: #1967D2;\n",
              "    height: 32px;\n",
              "    padding: 0 0 0 0;\n",
              "    width: 32px;\n",
              "  }\n",
              "\n",
              "  .colab-df-quickchart:hover {\n",
              "    background-color: #E2EBFA;\n",
              "    box-shadow: 0px 1px 2px rgba(60, 64, 67, 0.3), 0px 1px 3px 1px rgba(60, 64, 67, 0.15);\n",
              "    fill: #174EA6;\n",
              "  }\n",
              "\n",
              "  [theme=dark] .colab-df-quickchart {\n",
              "    background-color: #3B4455;\n",
              "    fill: #D2E3FC;\n",
              "  }\n",
              "\n",
              "  [theme=dark] .colab-df-quickchart:hover {\n",
              "    background-color: #434B5C;\n",
              "    box-shadow: 0px 1px 3px 1px rgba(0, 0, 0, 0.15);\n",
              "    filter: drop-shadow(0px 1px 2px rgba(0, 0, 0, 0.3));\n",
              "    fill: #FFFFFF;\n",
              "  }\n",
              "</style>\n",
              "\n",
              "  <script>\n",
              "    async function quickchart(key) {\n",
              "      const charts = await google.colab.kernel.invokeFunction(\n",
              "          'suggestCharts', [key], {});\n",
              "    }\n",
              "    (() => {\n",
              "      let quickchartButtonEl =\n",
              "        document.querySelector('#df-56792eea-ba7b-4778-8469-00b7b9212f51 button');\n",
              "      quickchartButtonEl.style.display =\n",
              "        google.colab.kernel.accessAllowed ? 'block' : 'none';\n",
              "    })();\n",
              "  </script>\n",
              "</div>\n",
              "    </div>\n",
              "  </div>\n"
            ]
          },
          "metadata": {},
          "execution_count": 24
        }
      ],
      "source": [
        "# Memuat dataset\n",
        "dataset = pd.read_csv('dataset.csv')\n",
        "X = dataset[['BB_Lahir','TB_Lahir', 'Usia_Saat_Ukur', 'Berat', 'Tinggi', 'ZS_BB/U', 'ZS_TB/U', 'ZS_BB/TB']]\n",
        "y = dataset['TB/U']\n",
        "\n",
        "dataset"
      ]
    },
    {
      "cell_type": "code",
      "execution_count": 3,
      "metadata": {
        "colab": {
          "base_uri": "https://localhost:8080/",
          "height": 423
        },
        "id": "O-NQb462jj5B",
        "outputId": "46186a3f-4181-4c18-b908-411023d29b06"
      },
      "outputs": [
        {
          "output_type": "execute_result",
          "data": {
            "text/plain": [
              "      BB_Lahir  TB_Lahir  Usia_Saat_Ukur     Berat    Tinggi   ZS_BB/U  \\\n",
              "0     0.000110  0.099010        0.233333  0.268551  0.382872  0.571831   \n",
              "1     0.000117  0.099010        0.200000  0.190813  0.363980  0.270423   \n",
              "2     0.000100  0.097030        0.350000  0.310954  0.487406  0.550704   \n",
              "3     0.000000  0.000000        0.650000  0.325088  0.540302  0.322535   \n",
              "4     0.000233  0.085149        0.850000  0.084806  0.065491  0.733803   \n",
              "...        ...       ...             ...       ...       ...       ...   \n",
              "3264  0.000117  0.099010        0.333333  0.325088  0.474811  0.618310   \n",
              "3265  0.000083  0.091089        0.450000  0.332155  0.525189  0.571831   \n",
              "3266  0.000083  0.091089        0.133333  0.162544  0.304786  0.374648   \n",
              "3267  0.000107  0.095050        0.400000  0.261484  0.478589  0.400000   \n",
              "3268  0.000100  0.097030        0.250000  0.226148  0.403023  0.353521   \n",
              "\n",
              "       ZS_TB/U  ZS_BB/TB  \n",
              "0     0.299883  0.004702  \n",
              "1     0.304551  0.001833  \n",
              "2     0.383897  0.004024  \n",
              "3     0.199533  0.003377  \n",
              "4     0.826138  0.004014  \n",
              "...        ...       ...  \n",
              "3264  0.372229  0.004682  \n",
              "3265  0.418903  0.004204  \n",
              "3266  0.399067  0.002560  \n",
              "3267  0.373396  0.002799  \n",
              "3268  0.305718  0.002500  \n",
              "\n",
              "[3269 rows x 8 columns]"
            ],
            "text/html": [
              "\n",
              "  <div id=\"df-93338e10-8cb9-4da5-963c-cc87b0733785\" class=\"colab-df-container\">\n",
              "    <div>\n",
              "<style scoped>\n",
              "    .dataframe tbody tr th:only-of-type {\n",
              "        vertical-align: middle;\n",
              "    }\n",
              "\n",
              "    .dataframe tbody tr th {\n",
              "        vertical-align: top;\n",
              "    }\n",
              "\n",
              "    .dataframe thead th {\n",
              "        text-align: right;\n",
              "    }\n",
              "</style>\n",
              "<table border=\"1\" class=\"dataframe\">\n",
              "  <thead>\n",
              "    <tr style=\"text-align: right;\">\n",
              "      <th></th>\n",
              "      <th>BB_Lahir</th>\n",
              "      <th>TB_Lahir</th>\n",
              "      <th>Usia_Saat_Ukur</th>\n",
              "      <th>Berat</th>\n",
              "      <th>Tinggi</th>\n",
              "      <th>ZS_BB/U</th>\n",
              "      <th>ZS_TB/U</th>\n",
              "      <th>ZS_BB/TB</th>\n",
              "    </tr>\n",
              "  </thead>\n",
              "  <tbody>\n",
              "    <tr>\n",
              "      <th>0</th>\n",
              "      <td>0.000110</td>\n",
              "      <td>0.099010</td>\n",
              "      <td>0.233333</td>\n",
              "      <td>0.268551</td>\n",
              "      <td>0.382872</td>\n",
              "      <td>0.571831</td>\n",
              "      <td>0.299883</td>\n",
              "      <td>0.004702</td>\n",
              "    </tr>\n",
              "    <tr>\n",
              "      <th>1</th>\n",
              "      <td>0.000117</td>\n",
              "      <td>0.099010</td>\n",
              "      <td>0.200000</td>\n",
              "      <td>0.190813</td>\n",
              "      <td>0.363980</td>\n",
              "      <td>0.270423</td>\n",
              "      <td>0.304551</td>\n",
              "      <td>0.001833</td>\n",
              "    </tr>\n",
              "    <tr>\n",
              "      <th>2</th>\n",
              "      <td>0.000100</td>\n",
              "      <td>0.097030</td>\n",
              "      <td>0.350000</td>\n",
              "      <td>0.310954</td>\n",
              "      <td>0.487406</td>\n",
              "      <td>0.550704</td>\n",
              "      <td>0.383897</td>\n",
              "      <td>0.004024</td>\n",
              "    </tr>\n",
              "    <tr>\n",
              "      <th>3</th>\n",
              "      <td>0.000000</td>\n",
              "      <td>0.000000</td>\n",
              "      <td>0.650000</td>\n",
              "      <td>0.325088</td>\n",
              "      <td>0.540302</td>\n",
              "      <td>0.322535</td>\n",
              "      <td>0.199533</td>\n",
              "      <td>0.003377</td>\n",
              "    </tr>\n",
              "    <tr>\n",
              "      <th>4</th>\n",
              "      <td>0.000233</td>\n",
              "      <td>0.085149</td>\n",
              "      <td>0.850000</td>\n",
              "      <td>0.084806</td>\n",
              "      <td>0.065491</td>\n",
              "      <td>0.733803</td>\n",
              "      <td>0.826138</td>\n",
              "      <td>0.004014</td>\n",
              "    </tr>\n",
              "    <tr>\n",
              "      <th>...</th>\n",
              "      <td>...</td>\n",
              "      <td>...</td>\n",
              "      <td>...</td>\n",
              "      <td>...</td>\n",
              "      <td>...</td>\n",
              "      <td>...</td>\n",
              "      <td>...</td>\n",
              "      <td>...</td>\n",
              "    </tr>\n",
              "    <tr>\n",
              "      <th>3264</th>\n",
              "      <td>0.000117</td>\n",
              "      <td>0.099010</td>\n",
              "      <td>0.333333</td>\n",
              "      <td>0.325088</td>\n",
              "      <td>0.474811</td>\n",
              "      <td>0.618310</td>\n",
              "      <td>0.372229</td>\n",
              "      <td>0.004682</td>\n",
              "    </tr>\n",
              "    <tr>\n",
              "      <th>3265</th>\n",
              "      <td>0.000083</td>\n",
              "      <td>0.091089</td>\n",
              "      <td>0.450000</td>\n",
              "      <td>0.332155</td>\n",
              "      <td>0.525189</td>\n",
              "      <td>0.571831</td>\n",
              "      <td>0.418903</td>\n",
              "      <td>0.004204</td>\n",
              "    </tr>\n",
              "    <tr>\n",
              "      <th>3266</th>\n",
              "      <td>0.000083</td>\n",
              "      <td>0.091089</td>\n",
              "      <td>0.133333</td>\n",
              "      <td>0.162544</td>\n",
              "      <td>0.304786</td>\n",
              "      <td>0.374648</td>\n",
              "      <td>0.399067</td>\n",
              "      <td>0.002560</td>\n",
              "    </tr>\n",
              "    <tr>\n",
              "      <th>3267</th>\n",
              "      <td>0.000107</td>\n",
              "      <td>0.095050</td>\n",
              "      <td>0.400000</td>\n",
              "      <td>0.261484</td>\n",
              "      <td>0.478589</td>\n",
              "      <td>0.400000</td>\n",
              "      <td>0.373396</td>\n",
              "      <td>0.002799</td>\n",
              "    </tr>\n",
              "    <tr>\n",
              "      <th>3268</th>\n",
              "      <td>0.000100</td>\n",
              "      <td>0.097030</td>\n",
              "      <td>0.250000</td>\n",
              "      <td>0.226148</td>\n",
              "      <td>0.403023</td>\n",
              "      <td>0.353521</td>\n",
              "      <td>0.305718</td>\n",
              "      <td>0.002500</td>\n",
              "    </tr>\n",
              "  </tbody>\n",
              "</table>\n",
              "<p>3269 rows × 8 columns</p>\n",
              "</div>\n",
              "    <div class=\"colab-df-buttons\">\n",
              "\n",
              "  <div class=\"colab-df-container\">\n",
              "    <button class=\"colab-df-convert\" onclick=\"convertToInteractive('df-93338e10-8cb9-4da5-963c-cc87b0733785')\"\n",
              "            title=\"Convert this dataframe to an interactive table.\"\n",
              "            style=\"display:none;\">\n",
              "\n",
              "  <svg xmlns=\"http://www.w3.org/2000/svg\" height=\"24px\" viewBox=\"0 -960 960 960\">\n",
              "    <path d=\"M120-120v-720h720v720H120Zm60-500h600v-160H180v160Zm220 220h160v-160H400v160Zm0 220h160v-160H400v160ZM180-400h160v-160H180v160Zm440 0h160v-160H620v160ZM180-180h160v-160H180v160Zm440 0h160v-160H620v160Z\"/>\n",
              "  </svg>\n",
              "    </button>\n",
              "\n",
              "  <style>\n",
              "    .colab-df-container {\n",
              "      display:flex;\n",
              "      gap: 12px;\n",
              "    }\n",
              "\n",
              "    .colab-df-convert {\n",
              "      background-color: #E8F0FE;\n",
              "      border: none;\n",
              "      border-radius: 50%;\n",
              "      cursor: pointer;\n",
              "      display: none;\n",
              "      fill: #1967D2;\n",
              "      height: 32px;\n",
              "      padding: 0 0 0 0;\n",
              "      width: 32px;\n",
              "    }\n",
              "\n",
              "    .colab-df-convert:hover {\n",
              "      background-color: #E2EBFA;\n",
              "      box-shadow: 0px 1px 2px rgba(60, 64, 67, 0.3), 0px 1px 3px 1px rgba(60, 64, 67, 0.15);\n",
              "      fill: #174EA6;\n",
              "    }\n",
              "\n",
              "    .colab-df-buttons div {\n",
              "      margin-bottom: 4px;\n",
              "    }\n",
              "\n",
              "    [theme=dark] .colab-df-convert {\n",
              "      background-color: #3B4455;\n",
              "      fill: #D2E3FC;\n",
              "    }\n",
              "\n",
              "    [theme=dark] .colab-df-convert:hover {\n",
              "      background-color: #434B5C;\n",
              "      box-shadow: 0px 1px 3px 1px rgba(0, 0, 0, 0.15);\n",
              "      filter: drop-shadow(0px 1px 2px rgba(0, 0, 0, 0.3));\n",
              "      fill: #FFFFFF;\n",
              "    }\n",
              "  </style>\n",
              "\n",
              "    <script>\n",
              "      const buttonEl =\n",
              "        document.querySelector('#df-93338e10-8cb9-4da5-963c-cc87b0733785 button.colab-df-convert');\n",
              "      buttonEl.style.display =\n",
              "        google.colab.kernel.accessAllowed ? 'block' : 'none';\n",
              "\n",
              "      async function convertToInteractive(key) {\n",
              "        const element = document.querySelector('#df-93338e10-8cb9-4da5-963c-cc87b0733785');\n",
              "        const dataTable =\n",
              "          await google.colab.kernel.invokeFunction('convertToInteractive',\n",
              "                                                    [key], {});\n",
              "        if (!dataTable) return;\n",
              "\n",
              "        const docLinkHtml = 'Like what you see? Visit the ' +\n",
              "          '<a target=\"_blank\" href=https://colab.research.google.com/notebooks/data_table.ipynb>data table notebook</a>'\n",
              "          + ' to learn more about interactive tables.';\n",
              "        element.innerHTML = '';\n",
              "        dataTable['output_type'] = 'display_data';\n",
              "        await google.colab.output.renderOutput(dataTable, element);\n",
              "        const docLink = document.createElement('div');\n",
              "        docLink.innerHTML = docLinkHtml;\n",
              "        element.appendChild(docLink);\n",
              "      }\n",
              "    </script>\n",
              "  </div>\n",
              "\n",
              "\n",
              "<div id=\"df-f02c6c39-46bb-4713-9ae7-fa3bb4560018\">\n",
              "  <button class=\"colab-df-quickchart\" onclick=\"quickchart('df-f02c6c39-46bb-4713-9ae7-fa3bb4560018')\"\n",
              "            title=\"Suggest charts.\"\n",
              "            style=\"display:none;\">\n",
              "\n",
              "<svg xmlns=\"http://www.w3.org/2000/svg\" height=\"24px\"viewBox=\"0 0 24 24\"\n",
              "     width=\"24px\">\n",
              "    <g>\n",
              "        <path d=\"M19 3H5c-1.1 0-2 .9-2 2v14c0 1.1.9 2 2 2h14c1.1 0 2-.9 2-2V5c0-1.1-.9-2-2-2zM9 17H7v-7h2v7zm4 0h-2V7h2v10zm4 0h-2v-4h2v4z\"/>\n",
              "    </g>\n",
              "</svg>\n",
              "  </button>\n",
              "\n",
              "<style>\n",
              "  .colab-df-quickchart {\n",
              "    background-color: #E8F0FE;\n",
              "    border: none;\n",
              "    border-radius: 50%;\n",
              "    cursor: pointer;\n",
              "    display: none;\n",
              "    fill: #1967D2;\n",
              "    height: 32px;\n",
              "    padding: 0 0 0 0;\n",
              "    width: 32px;\n",
              "  }\n",
              "\n",
              "  .colab-df-quickchart:hover {\n",
              "    background-color: #E2EBFA;\n",
              "    box-shadow: 0px 1px 2px rgba(60, 64, 67, 0.3), 0px 1px 3px 1px rgba(60, 64, 67, 0.15);\n",
              "    fill: #174EA6;\n",
              "  }\n",
              "\n",
              "  [theme=dark] .colab-df-quickchart {\n",
              "    background-color: #3B4455;\n",
              "    fill: #D2E3FC;\n",
              "  }\n",
              "\n",
              "  [theme=dark] .colab-df-quickchart:hover {\n",
              "    background-color: #434B5C;\n",
              "    box-shadow: 0px 1px 3px 1px rgba(0, 0, 0, 0.15);\n",
              "    filter: drop-shadow(0px 1px 2px rgba(0, 0, 0, 0.3));\n",
              "    fill: #FFFFFF;\n",
              "  }\n",
              "</style>\n",
              "\n",
              "  <script>\n",
              "    async function quickchart(key) {\n",
              "      const charts = await google.colab.kernel.invokeFunction(\n",
              "          'suggestCharts', [key], {});\n",
              "    }\n",
              "    (() => {\n",
              "      let quickchartButtonEl =\n",
              "        document.querySelector('#df-f02c6c39-46bb-4713-9ae7-fa3bb4560018 button');\n",
              "      quickchartButtonEl.style.display =\n",
              "        google.colab.kernel.accessAllowed ? 'block' : 'none';\n",
              "    })();\n",
              "  </script>\n",
              "</div>\n",
              "    </div>\n",
              "  </div>\n"
            ]
          },
          "metadata": {},
          "execution_count": 3
        }
      ],
      "source": [
        "X"
      ]
    },
    {
      "cell_type": "code",
      "execution_count": 4,
      "metadata": {
        "colab": {
          "base_uri": "https://localhost:8080/"
        },
        "id": "1IMIeFypjnSh",
        "outputId": "54af1154-462e-447f-8a3f-1dc5b25f62b4"
      },
      "outputs": [
        {
          "output_type": "execute_result",
          "data": {
            "text/plain": [
              "0       2\n",
              "1       1\n",
              "2       1\n",
              "3       2\n",
              "4       0\n",
              "       ..\n",
              "3264    1\n",
              "3265    1\n",
              "3266    1\n",
              "3267    1\n",
              "3268    1\n",
              "Name: TB/U, Length: 3269, dtype: int64"
            ]
          },
          "metadata": {},
          "execution_count": 4
        }
      ],
      "source": [
        "y"
      ]
    },
    {
      "cell_type": "markdown",
      "source": [
        "### **Pembagian 90:10**"
      ],
      "metadata": {
        "id": "ERCEGE2iquWR"
      }
    },
    {
      "cell_type": "code",
      "source": [
        "# Membagi data menjadi data latih dan data uji\n",
        "X_train, X_test, y_train, y_test = train_test_split( X, y, test_size=0.1, random_state=42)\n",
        "\n",
        "# Inisialisasi model SVM Polynomial\n",
        "clf_poly = SVC(kernel='poly')\n",
        "# Melatih model menggunakan data latih\n",
        "clf_poly.fit(X_train, y_train)\n",
        "# Melakukan klasifikasi pada data uji\n",
        "y_pred_poly = clf_poly.predict(X_test)\n",
        "\n",
        "accuracy_poly = accuracy_score(y_test, y_pred_poly)\n",
        "print(f\"Polynomial Kernel Accuracy: {accuracy_poly}\")"
      ],
      "metadata": {
        "colab": {
          "base_uri": "https://localhost:8080/"
        },
        "id": "qbPi2_nRq4zI",
        "outputId": "6b89a42d-c513-4257-b6c6-07deb2c0f265"
      },
      "execution_count": 5,
      "outputs": [
        {
          "output_type": "stream",
          "name": "stdout",
          "text": [
            "Polynomial Kernel Accuracy: 0.9785932721712538\n"
          ]
        }
      ]
    },
    {
      "cell_type": "markdown",
      "source": [
        "### **Pembagian 80:20**"
      ],
      "metadata": {
        "id": "XnxGe0vIrNFD"
      }
    },
    {
      "cell_type": "code",
      "source": [
        "# Membagi data menjadi data latih dan data uji\n",
        "X_train, X_test, y_train, y_test = train_test_split( X, y, test_size=0.2, random_state=42)\n",
        "\n",
        "# Inisialisasi model SVM Polynomial\n",
        "clf_poly = SVC(kernel='poly')\n",
        "# Melatih model menggunakan data latih\n",
        "clf_poly.fit(X_train, y_train)\n",
        "# Melakukan klasifikasi pada data uji\n",
        "y_pred_poly = clf_poly.predict(X_test)\n",
        "\n",
        "accuracy_poly = accuracy_score(y_test, y_pred_poly)\n",
        "print(f\"Polynomial Kernel Accuracy: {accuracy_poly}\")"
      ],
      "metadata": {
        "colab": {
          "base_uri": "https://localhost:8080/"
        },
        "id": "mOA12XklrKs1",
        "outputId": "bd31a3ce-4fdb-42c8-c9c2-c2f9159b4047"
      },
      "execution_count": 6,
      "outputs": [
        {
          "output_type": "stream",
          "name": "stdout",
          "text": [
            "Polynomial Kernel Accuracy: 0.9755351681957186\n"
          ]
        }
      ]
    },
    {
      "cell_type": "markdown",
      "source": [
        "### **Pembagian 70:30**"
      ],
      "metadata": {
        "id": "Ns5zejMjraT1"
      }
    },
    {
      "cell_type": "code",
      "source": [
        "# Membagi data menjadi data latih dan data uji\n",
        "X_train, X_test, y_train, y_test = train_test_split( X, y, test_size=0.3, random_state=42)\n",
        "\n",
        "# Inisialisasi model SVM Polynomial\n",
        "clf_poly = SVC(kernel='poly',)\n",
        "# Melatih model menggunakan data latih\n",
        "clf_poly.fit(X_train, y_train)\n",
        "# Melakukan klasifikasi pada data uji\n",
        "y_pred_poly = clf_poly.predict(X_test)\n",
        "\n",
        "accuracy_poly = accuracy_score(y_test, y_pred_poly)\n",
        "print(f\"Polynomial Kernel Accuracy: {accuracy_poly}\")"
      ],
      "metadata": {
        "colab": {
          "base_uri": "https://localhost:8080/"
        },
        "id": "bW3bnRzbrWlM",
        "outputId": "99ad6dbf-ad5d-47cb-f07e-58ab147bf49e"
      },
      "execution_count": 7,
      "outputs": [
        {
          "output_type": "stream",
          "name": "stdout",
          "text": [
            "Polynomial Kernel Accuracy: 0.9806320081549439\n"
          ]
        }
      ]
    },
    {
      "cell_type": "markdown",
      "source": [
        "### **Pembagian 60:40**"
      ],
      "metadata": {
        "id": "_fk--GGoruHm"
      }
    },
    {
      "cell_type": "code",
      "source": [
        "# Membagi data menjadi data latih dan data uji\n",
        "X_train, X_test, y_train, y_test = train_test_split( X, y, test_size=0.4, random_state=42)\n",
        "\n",
        "# Inisialisasi model SVM Polynomial\n",
        "clf_poly = SVC(kernel='poly')\n",
        "# Melatih model menggunakan data latih\n",
        "clf_poly.fit(X_train, y_train)\n",
        "# Melakukan klasifikasi pada data uji\n",
        "y_pred_poly = clf_poly.predict(X_test)\n",
        "\n",
        "accuracy_poly = accuracy_score(y_test, y_pred_poly)\n",
        "print(f\"Polynomial Kernel Accuracy: {accuracy_poly}\")"
      ],
      "metadata": {
        "colab": {
          "base_uri": "https://localhost:8080/"
        },
        "id": "5vcesKIyrKi5",
        "outputId": "aff96c66-3811-4ce6-bd12-895c099496d1"
      },
      "execution_count": 8,
      "outputs": [
        {
          "output_type": "stream",
          "name": "stdout",
          "text": [
            "Polynomial Kernel Accuracy: 0.9717125382262997\n"
          ]
        }
      ]
    },
    {
      "cell_type": "markdown",
      "source": [
        "### **Pengujian Kernel Linear Menggunakan**"
      ],
      "metadata": {
        "id": "HxxXb5XRsfB3"
      }
    },
    {
      "cell_type": "code",
      "execution_count": 9,
      "metadata": {
        "id": "fIa_cMMwZvOf",
        "colab": {
          "base_uri": "https://localhost:8080/"
        },
        "outputId": "36c19512-ba22-4516-8950-f4f24ab28a19"
      },
      "outputs": [
        {
          "output_type": "stream",
          "name": "stdout",
          "text": [
            "              precision    recall  f1-score   support\n",
            "\n",
            "           0       0.99      0.86      0.92        86\n",
            "           1       0.91      1.00      0.95       678\n",
            "           2       0.99      0.74      0.85       217\n",
            "\n",
            "    accuracy                           0.93       981\n",
            "   macro avg       0.96      0.87      0.91       981\n",
            "weighted avg       0.93      0.93      0.93       981\n",
            "\n"
          ]
        }
      ],
      "source": [
        "# Membagi data menjadi data latih dan data uji\n",
        "X_train, X_test, y_train, y_test = train_test_split( X, y, test_size=0.3, random_state=42)\n",
        "\n",
        "# Inisialisasi model SVM Linear\n",
        "clf_linear = SVC(kernel='linear')\n",
        "\n",
        "# Melatih model menggunakan data latih\n",
        "clf_linear.fit(X_train, y_train)\n",
        "\n",
        "# Melakukan klasifikasi pada data uji\n",
        "y_pred_linear = clf_linear.predict(X_test)\n",
        "\n",
        "#Tampilkan hasil berdasarkan clasifikasi report\n",
        "print(classification_report(y_test, y_pred_linear, zero_division=1))"
      ]
    },
    {
      "cell_type": "markdown",
      "source": [
        "### **Pengujian Menggunakan Kernel Sigmoid**"
      ],
      "metadata": {
        "id": "zqTSVH7p2qYk"
      }
    },
    {
      "cell_type": "code",
      "execution_count": 10,
      "metadata": {
        "id": "WAnc0RPolg2T",
        "colab": {
          "base_uri": "https://localhost:8080/"
        },
        "outputId": "66c02269-54b3-4113-c90b-8570926238ff"
      },
      "outputs": [
        {
          "output_type": "stream",
          "name": "stdout",
          "text": [
            "              precision    recall  f1-score   support\n",
            "\n",
            "           0       0.00      0.00      0.00        86\n",
            "           1       0.79      0.66      0.72       678\n",
            "           2       0.03      0.03      0.03       217\n",
            "\n",
            "    accuracy                           0.46       981\n",
            "   macro avg       0.27      0.23      0.25       981\n",
            "weighted avg       0.55      0.46      0.50       981\n",
            "\n"
          ]
        }
      ],
      "source": [
        "# Membagi data menjadi data latih dan data uji\n",
        "X_train, X_test, y_train, y_test = train_test_split( X, y, test_size=0.3, random_state=42)\n",
        "\n",
        "# Inisialisasi model SVM Sigmoid\n",
        "clf_sigmoid= SVC(kernel='sigmoid')\n",
        "\n",
        "# Melatih model menggunakan data latih\n",
        "clf_sigmoid.fit(X_train, y_train)\n",
        "\n",
        "# Melakukan klasifikasi pada data uji\n",
        "y_pred_sigmoid = clf_sigmoid.predict(X_test)\n",
        "\n",
        "#Tampilkan hasil berdasarkan clasifikasi report\n",
        "print(classification_report(y_test, y_pred_sigmoid, zero_division=1))\n",
        "\n"
      ]
    },
    {
      "cell_type": "markdown",
      "source": [
        "### **Pengujian Menggunakan Kernel Polynomial**"
      ],
      "metadata": {
        "id": "2nRzpLOR9OlJ"
      }
    },
    {
      "cell_type": "code",
      "execution_count": 11,
      "metadata": {
        "id": "lDzx83a3eis9",
        "colab": {
          "base_uri": "https://localhost:8080/"
        },
        "outputId": "7de8890c-4de0-4773-f1be-beea31ba46f2"
      },
      "outputs": [
        {
          "output_type": "stream",
          "name": "stdout",
          "text": [
            "              precision    recall  f1-score   support\n",
            "\n",
            "           0       1.00      1.00      1.00        86\n",
            "           1       0.98      0.99      0.99       678\n",
            "           2       0.97      0.94      0.96       217\n",
            "\n",
            "    accuracy                           0.98       981\n",
            "   macro avg       0.98      0.98      0.98       981\n",
            "weighted avg       0.98      0.98      0.98       981\n",
            "\n"
          ]
        }
      ],
      "source": [
        "# Membagi data menjadi data latih dan data uji\n",
        "X_train, X_test, y_train, y_test = train_test_split( X, y, test_size=0.3, random_state=42)\n",
        "\n",
        "# Inisialisasi model SVM Polynomial\n",
        "clf_poly = SVC(kernel='poly',)\n",
        "\n",
        "# Melatih model menggunakan data latih\n",
        "clf_poly.fit(X_train, y_train)\n",
        "\n",
        "# Melakukan klasifikasi pada data uji\n",
        "y_pred_poly = clf_poly.predict(X_test)\n",
        "\n",
        "#Tampilkan hasil berdasarkan clasifikasi report\n",
        "print(classification_report(y_test, y_pred_poly, zero_division=1))"
      ]
    },
    {
      "cell_type": "markdown",
      "source": [
        "### **Pengujian Menggunakan Kernel RBF**"
      ],
      "metadata": {
        "id": "kzh-NuXa9V2H"
      }
    },
    {
      "cell_type": "code",
      "execution_count": 12,
      "metadata": {
        "id": "WrgHjOwGesXI",
        "colab": {
          "base_uri": "https://localhost:8080/"
        },
        "outputId": "11f4b4d8-5623-4c9b-e4e7-d96242bbf726"
      },
      "outputs": [
        {
          "output_type": "stream",
          "name": "stdout",
          "text": [
            "              precision    recall  f1-score   support\n",
            "\n",
            "           0       0.99      0.97      0.98        86\n",
            "           1       0.96      1.00      0.98       678\n",
            "           2       0.99      0.88      0.94       217\n",
            "\n",
            "    accuracy                           0.97       981\n",
            "   macro avg       0.98      0.95      0.96       981\n",
            "weighted avg       0.97      0.97      0.97       981\n",
            "\n"
          ]
        }
      ],
      "source": [
        "# Membagi data menjadi data latih dan data uji\n",
        "X_train, X_test, y_train, y_test = train_test_split( X, y, test_size=0.3, random_state=42)\n",
        "\n",
        "# Inisialisasi model SVM RBF\n",
        "clf_rbf= SVC(kernel='rbf')\n",
        "\n",
        "# Melatih model menggunakan data latih\n",
        "clf_rbf.fit(X_train, y_train)\n",
        "\n",
        "# Melakukan klasifikasi pada data uji\n",
        "y_pred_rbf = clf_rbf.predict(X_test)\n",
        "\n",
        "#Tampilkan hasil berdasarkan clasifikasi report\n",
        "print(classification_report(y_test, y_pred_rbf, zero_division=1))"
      ]
    },
    {
      "cell_type": "code",
      "execution_count": 13,
      "metadata": {
        "colab": {
          "base_uri": "https://localhost:8080/",
          "height": 696
        },
        "id": "C8_r4jVuK4sR",
        "outputId": "75fa983e-78c0-4221-c14f-644bc510a3b5"
      },
      "outputs": [
        {
          "output_type": "display_data",
          "data": {
            "text/plain": [
              "<Figure size 1000x800 with 1 Axes>"
            ],
            "image/png": "[encoded data removed]"
          },
          "metadata": {}
        }
      ],
      "source": [
        "#Menghitung jumlah klasifikasi\n",
        "count_0 = np.sum(y_pred_poly == 0)\n",
        "count_1 = np.sum(y_pred_poly == 1)\n",
        "count_2 = np.sum(y_pred_poly == 2)\n",
        "total_samples = len(y_pred_poly)\n",
        "\n",
        "# Menghitung persentase klasifikasi\n",
        "percentage_0 = (count_0 / total_samples) * 100\n",
        "percentage_1 = (count_1 / total_samples) * 100\n",
        "percentage_2 = (count_2 / total_samples) * 100\n",
        "\n",
        "# Membuat plot batang\n",
        "plt.figure(figsize=(10, 8))\n",
        "labels = ['Normal', 'Pendek', 'Sangat Pendek']\n",
        "percentages = [percentage_0, percentage_1, percentage_2]\n",
        "plt.bar(labels, percentages, color='skyblue')\n",
        "\n",
        "# Menambahkan label pada sumbu x dan y\n",
        "plt.xlabel('Stunting')\n",
        "plt.ylabel('Persentase Klasifikasi Dari Data Testing (%)')\n",
        "\n",
        "# Menampilkan persentase di atas setiap batang\n",
        "for i, percentage in enumerate(percentages):\n",
        "    plt.text(i, percentage + 2, f'{percentage:.2f}%', ha='center')\n",
        "\n",
        "# Menampilkan plot\n",
        "plt.show()"
      ]
    },
    {
      "cell_type": "markdown",
      "source": [
        "### **Pengujian K-Fold = 10**"
      ],
      "metadata": {
        "id": "OgvUCcUG9dL2"
      }
    },
    {
      "cell_type": "code",
      "execution_count": 14,
      "metadata": {
        "id": "RzszopoCFR_E"
      },
      "outputs": [],
      "source": [
        "# Melakukan K-fold\n",
        "cv_train = cross_validate(estimator=SVC(kernel='poly', random_state=42, C=1, degree=3),\n",
        "                                                   X=X_train,\n",
        "                                                   y=y_train,\n",
        "                                                   cv=KFold(n_splits=10),\n",
        "                                                   scoring=(('accuracy','precision_weighted', 'recall_weighted', 'f1_weighted')))"
      ]
    },
    {
      "cell_type": "code",
      "execution_count": 15,
      "metadata": {
        "colab": {
          "base_uri": "https://localhost:8080/",
          "height": 363
        },
        "id": "xIKzEuz0uRwX",
        "outputId": "5947b8e7-3284-4cba-dab4-075e51bb5064"
      },
      "outputs": [
        {
          "output_type": "execute_result",
          "data": {
            "text/plain": [
              "    akurasi   presisi    recall  f1_score\n",
              "0  0.956332  0.957365  0.956332  0.955085\n",
              "1  0.982533  0.982486  0.982533  0.982387\n",
              "2  0.973799  0.973671  0.973799  0.973626\n",
              "3  0.960699  0.960127  0.960699  0.960127\n",
              "4  0.991266  0.991266  0.991266  0.991266\n",
              "5  0.969432  0.969716  0.969432  0.968841\n",
              "6  0.960699  0.960124  0.960699  0.960126\n",
              "7  0.960699  0.960445  0.960699  0.960544\n",
              "8  0.973684  0.973965  0.973684  0.973472\n",
              "9  0.969298  0.969747  0.969298  0.968881"
            ],
            "text/html": [
              "\n",
              "  <div id=\"df-3a57073c-dd55-42d4-9b0d-1aeac84f7e6d\" class=\"colab-df-container\">\n",
              "    <div>\n",
              "<style scoped>\n",
              "    .dataframe tbody tr th:only-of-type {\n",
              "        vertical-align: middle;\n",
              "    }\n",
              "\n",
              "    .dataframe tbody tr th {\n",
              "        vertical-align: top;\n",
              "    }\n",
              "\n",
              "    .dataframe thead th {\n",
              "        text-align: right;\n",
              "    }\n",
              "</style>\n",
              "<table border=\"1\" class=\"dataframe\">\n",
              "  <thead>\n",
              "    <tr style=\"text-align: right;\">\n",
              "      <th></th>\n",
              "      <th>akurasi</th>\n",
              "      <th>presisi</th>\n",
              "      <th>recall</th>\n",
              "      <th>f1_score</th>\n",
              "    </tr>\n",
              "  </thead>\n",
              "  <tbody>\n",
              "    <tr>\n",
              "      <th>0</th>\n",
              "      <td>0.956332</td>\n",
              "      <td>0.957365</td>\n",
              "      <td>0.956332</td>\n",
              "      <td>0.955085</td>\n",
              "    </tr>\n",
              "    <tr>\n",
              "      <th>1</th>\n",
              "      <td>0.982533</td>\n",
              "      <td>0.982486</td>\n",
              "      <td>0.982533</td>\n",
              "      <td>0.982387</td>\n",
              "    </tr>\n",
              "    <tr>\n",
              "      <th>2</th>\n",
              "      <td>0.973799</td>\n",
              "      <td>0.973671</td>\n",
              "      <td>0.973799</td>\n",
              "      <td>0.973626</td>\n",
              "    </tr>\n",
              "    <tr>\n",
              "      <th>3</th>\n",
              "      <td>0.960699</td>\n",
              "      <td>0.960127</td>\n",
              "      <td>0.960699</td>\n",
              "      <td>0.960127</td>\n",
              "    </tr>\n",
              "    <tr>\n",
              "      <th>4</th>\n",
              "      <td>0.991266</td>\n",
              "      <td>0.991266</td>\n",
              "      <td>0.991266</td>\n",
              "      <td>0.991266</td>\n",
              "    </tr>\n",
              "    <tr>\n",
              "      <th>5</th>\n",
              "      <td>0.969432</td>\n",
              "      <td>0.969716</td>\n",
              "      <td>0.969432</td>\n",
              "      <td>0.968841</td>\n",
              "    </tr>\n",
              "    <tr>\n",
              "      <th>6</th>\n",
              "      <td>0.960699</td>\n",
              "      <td>0.960124</td>\n",
              "      <td>0.960699</td>\n",
              "      <td>0.960126</td>\n",
              "    </tr>\n",
              "    <tr>\n",
              "      <th>7</th>\n",
              "      <td>0.960699</td>\n",
              "      <td>0.960445</td>\n",
              "      <td>0.960699</td>\n",
              "      <td>0.960544</td>\n",
              "    </tr>\n",
              "    <tr>\n",
              "      <th>8</th>\n",
              "      <td>0.973684</td>\n",
              "      <td>0.973965</td>\n",
              "      <td>0.973684</td>\n",
              "      <td>0.973472</td>\n",
              "    </tr>\n",
              "    <tr>\n",
              "      <th>9</th>\n",
              "      <td>0.969298</td>\n",
              "      <td>0.969747</td>\n",
              "      <td>0.969298</td>\n",
              "      <td>0.968881</td>\n",
              "    </tr>\n",
              "  </tbody>\n",
              "</table>\n",
              "</div>\n",
              "    <div class=\"colab-df-buttons\">\n",
              "\n",
              "  <div class=\"colab-df-container\">\n",
              "    <button class=\"colab-df-convert\" onclick=\"convertToInteractive('df-3a57073c-dd55-42d4-9b0d-1aeac84f7e6d')\"\n",
              "            title=\"Convert this dataframe to an interactive table.\"\n",
              "            style=\"display:none;\">\n",
              "\n",
              "  <svg xmlns=\"http://www.w3.org/2000/svg\" height=\"24px\" viewBox=\"0 -960 960 960\">\n",
              "    <path d=\"M120-120v-720h720v720H120Zm60-500h600v-160H180v160Zm220 220h160v-160H400v160Zm0 220h160v-160H400v160ZM180-400h160v-160H180v160Zm440 0h160v-160H620v160ZM180-180h160v-160H180v160Zm440 0h160v-160H620v160Z\"/>\n",
              "  </svg>\n",
              "    </button>\n",
              "\n",
              "  <style>\n",
              "    .colab-df-container {\n",
              "      display:flex;\n",
              "      gap: 12px;\n",
              "    }\n",
              "\n",
              "    .colab-df-convert {\n",
              "      background-color: #E8F0FE;\n",
              "      border: none;\n",
              "      border-radius: 50%;\n",
              "      cursor: pointer;\n",
              "      display: none;\n",
              "      fill: #1967D2;\n",
              "      height: 32px;\n",
              "      padding: 0 0 0 0;\n",
              "      width: 32px;\n",
              "    }\n",
              "\n",
              "    .colab-df-convert:hover {\n",
              "      background-color: #E2EBFA;\n",
              "      box-shadow: 0px 1px 2px rgba(60, 64, 67, 0.3), 0px 1px 3px 1px rgba(60, 64, 67, 0.15);\n",
              "      fill: #174EA6;\n",
              "    }\n",
              "\n",
              "    .colab-df-buttons div {\n",
              "      margin-bottom: 4px;\n",
              "    }\n",
              "\n",
              "    [theme=dark] .colab-df-convert {\n",
              "      background-color: #3B4455;\n",
              "      fill: #D2E3FC;\n",
              "    }\n",
              "\n",
              "    [theme=dark] .colab-df-convert:hover {\n",
              "      background-color: #434B5C;\n",
              "      box-shadow: 0px 1px 3px 1px rgba(0, 0, 0, 0.15);\n",
              "      filter: drop-shadow(0px 1px 2px rgba(0, 0, 0, 0.3));\n",
              "      fill: #FFFFFF;\n",
              "    }\n",
              "  </style>\n",
              "\n",
              "    <script>\n",
              "      const buttonEl =\n",
              "        document.querySelector('#df-3a57073c-dd55-42d4-9b0d-1aeac84f7e6d button.colab-df-convert');\n",
              "      buttonEl.style.display =\n",
              "        google.colab.kernel.accessAllowed ? 'block' : 'none';\n",
              "\n",
              "      async function convertToInteractive(key) {\n",
              "        const element = document.querySelector('#df-3a57073c-dd55-42d4-9b0d-1aeac84f7e6d');\n",
              "        const dataTable =\n",
              "          await google.colab.kernel.invokeFunction('convertToInteractive',\n",
              "                                                    [key], {});\n",
              "        if (!dataTable) return;\n",
              "\n",
              "        const docLinkHtml = 'Like what you see? Visit the ' +\n",
              "          '<a target=\"_blank\" href=https://colab.research.google.com/notebooks/data_table.ipynb>data table notebook</a>'\n",
              "          + ' to learn more about interactive tables.';\n",
              "        element.innerHTML = '';\n",
              "        dataTable['output_type'] = 'display_data';\n",
              "        await google.colab.output.renderOutput(dataTable, element);\n",
              "        const docLink = document.createElement('div');\n",
              "        docLink.innerHTML = docLinkHtml;\n",
              "        element.appendChild(docLink);\n",
              "      }\n",
              "    </script>\n",
              "  </div>\n",
              "\n",
              "\n",
              "<div id=\"df-59afce42-ddcf-4b85-a2bf-b60a97407d05\">\n",
              "  <button class=\"colab-df-quickchart\" onclick=\"quickchart('df-59afce42-ddcf-4b85-a2bf-b60a97407d05')\"\n",
              "            title=\"Suggest charts.\"\n",
              "            style=\"display:none;\">\n",
              "\n",
              "<svg xmlns=\"http://www.w3.org/2000/svg\" height=\"24px\"viewBox=\"0 0 24 24\"\n",
              "     width=\"24px\">\n",
              "    <g>\n",
              "        <path d=\"M19 3H5c-1.1 0-2 .9-2 2v14c0 1.1.9 2 2 2h14c1.1 0 2-.9 2-2V5c0-1.1-.9-2-2-2zM9 17H7v-7h2v7zm4 0h-2V7h2v10zm4 0h-2v-4h2v4z\"/>\n",
              "    </g>\n",
              "</svg>\n",
              "  </button>\n",
              "\n",
              "<style>\n",
              "  .colab-df-quickchart {\n",
              "    background-color: #E8F0FE;\n",
              "    border: none;\n",
              "    border-radius: 50%;\n",
              "    cursor: pointer;\n",
              "    display: none;\n",
              "    fill: #1967D2;\n",
              "    height: 32px;\n",
              "    padding: 0 0 0 0;\n",
              "    width: 32px;\n",
              "  }\n",
              "\n",
              "  .colab-df-quickchart:hover {\n",
              "    background-color: #E2EBFA;\n",
              "    box-shadow: 0px 1px 2px rgba(60, 64, 67, 0.3), 0px 1px 3px 1px rgba(60, 64, 67, 0.15);\n",
              "    fill: #174EA6;\n",
              "  }\n",
              "\n",
              "  [theme=dark] .colab-df-quickchart {\n",
              "    background-color: #3B4455;\n",
              "    fill: #D2E3FC;\n",
              "  }\n",
              "\n",
              "  [theme=dark] .colab-df-quickchart:hover {\n",
              "    background-color: #434B5C;\n",
              "    box-shadow: 0px 1px 3px 1px rgba(0, 0, 0, 0.15);\n",
              "    filter: drop-shadow(0px 1px 2px rgba(0, 0, 0, 0.3));\n",
              "    fill: #FFFFFF;\n",
              "  }\n",
              "</style>\n",
              "\n",
              "  <script>\n",
              "    async function quickchart(key) {\n",
              "      const charts = await google.colab.kernel.invokeFunction(\n",
              "          'suggestCharts', [key], {});\n",
              "    }\n",
              "    (() => {\n",
              "      let quickchartButtonEl =\n",
              "        document.querySelector('#df-59afce42-ddcf-4b85-a2bf-b60a97407d05 button');\n",
              "      quickchartButtonEl.style.display =\n",
              "        google.colab.kernel.accessAllowed ? 'block' : 'none';\n",
              "    })();\n",
              "  </script>\n",
              "</div>\n",
              "    </div>\n",
              "  </div>\n"
            ]
          },
          "metadata": {},
          "execution_count": 15
        }
      ],
      "source": [
        "df_cv_train = pd.DataFrame({'akurasi':cv_train['test_accuracy'],\n",
        "                            'presisi':cv_train['test_precision_weighted'],\n",
        "                            'recall':cv_train['test_recall_weighted'],\n",
        "                            'f1_score':cv_train['test_f1_weighted']})\n",
        "df_cv_train"
      ]
    },
    {
      "cell_type": "code",
      "execution_count": 16,
      "metadata": {
        "colab": {
          "base_uri": "https://localhost:8080/"
        },
        "id": "rAbMAIQdvIbo",
        "outputId": "1b2f6331-2add-4d25-bfbd-e4d75874fbf9"
      },
      "outputs": [
        {
          "output_type": "execute_result",
          "data": {
            "text/plain": [
              "akurasi     0.969844\n",
              "presisi     0.969891\n",
              "recall      0.969844\n",
              "f1_score    0.969436\n",
              "dtype: float64"
            ]
          },
          "metadata": {},
          "execution_count": 16
        }
      ],
      "source": [
        "df_cv_train.mean()"
      ]
    },
    {
      "cell_type": "code",
      "execution_count": 17,
      "metadata": {
        "colab": {
          "base_uri": "https://localhost:8080/",
          "height": 641
        },
        "id": "peVufK9cA-r9",
        "outputId": "db288b25-0526-4770-d624-608cedd6a26f"
      },
      "outputs": [
        {
          "output_type": "display_data",
          "data": {
            "text/plain": [
              "<Figure size 1000x700 with 1 Axes>"
            ],
            "image/png": "[encoded data removed]"
          },
          "metadata": {}
        }
      ],
      "source": [
        "plt.figure(figsize=(10,7))\n",
        "xx = [\"0\", \"1\", \"2\", \"3\", \"4\", \"5\",\"6\", \"7\", \"8\", \"9\"]\n",
        "plt.plot(xx, cv_train['test_accuracy'], '--')\n",
        "plt.plot(xx, cv_train['test_precision_weighted'], '--')\n",
        "plt.plot(xx, cv_train['test_recall_weighted'], '--')\n",
        "plt.plot(xx, cv_train['test_f1_weighted'], '--')\n",
        "plt.title(\"Perbandingan tiap Cross Validation - SVM (Testing)\")\n",
        "plt.xlabel(\"Fold ke-\")\n",
        "plt.ylabel(\"Score\")\n",
        "plt.legend([\"Accuracy\", \"Precision\", \"Recall\", \"F1-score\"])\n",
        "plt.grid()\n",
        "plt.show()\n"
      ]
    },
    {
      "cell_type": "markdown",
      "source": [
        "### **Pengujian Menggunakan Confusion Matrix**"
      ],
      "metadata": {
        "id": "22brnLcB9i75"
      }
    },
    {
      "cell_type": "code",
      "execution_count": 18,
      "metadata": {
        "colab": {
          "base_uri": "https://localhost:8080/",
          "height": 564
        },
        "id": "2RqJ_Odxriys",
        "outputId": "e5dddc1b-bf2e-40b0-d747-4936c0f0c20c"
      },
      "outputs": [
        {
          "output_type": "display_data",
          "data": {
            "text/plain": [
              "<Figure size 1000x600 with 2 Axes>"
            ],
            "image/png": "[encoded data removed]"
          },
          "metadata": {}
        }
      ],
      "source": [
        "# Menghitung confusion matrix\n",
        "cm = confusion_matrix(y_test, y_pred_poly)\n",
        "\n",
        "labels = ['0', '1', '2']\n",
        "\n",
        "def plot_confusion_matrix(confusion_matrix, labels):\n",
        "    total_samples = np.sum(cm)\n",
        "    confusion_matrix_percent = (cm / total_samples) * 100\n",
        "\n",
        "    plt.figure(figsize=(10, 6))\n",
        "    sns.heatmap(confusion_matrix_percent, annot=True, fmt='.2f', cmap=\"Blues\", xticklabels=labels, yticklabels=labels)\n",
        "    plt.xlabel(\"Predicted Class (%)\")\n",
        "    plt.ylabel(\"Actual Class (%)\")\n",
        "    plt.title(\"Confusion Matrix (%)\")\n",
        "    plt.show()\n",
        "plot_confusion_matrix(confusion_matrix, labels)"
      ]
    },
    {
      "cell_type": "code",
      "execution_count": 19,
      "metadata": {
        "colab": {
          "base_uri": "https://localhost:8080/"
        },
        "id": "Jqka8C9wrjNj",
        "outputId": "363b2cad-f47a-4828-c3fe-baa909695dac"
      },
      "outputs": [
        {
          "output_type": "execute_result",
          "data": {
            "text/plain": [
              "array([[ 86,   0,   0],\n",
              "       [  0, 672,   6],\n",
              "       [  0,  13, 204]])"
            ]
          },
          "metadata": {},
          "execution_count": 19
        }
      ],
      "source": [
        "y_pred = clf_poly.predict(X_test)\n",
        "confusion_matrix(y_test, y_pred_poly)"
      ]
    }
  ],
  "metadata": {
    "colab": {
      "provenance": [],
      "include_colab_link": true
    },
    "kernelspec": {
      "display_name": "Python 3",
      "name": "python3"
    },
    "language_info": {
      "name": "python"
    }
  },
  "nbformat": 4,
  "nbformat_minor": 0
}